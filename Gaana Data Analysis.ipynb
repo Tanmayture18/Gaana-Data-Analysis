{
 "cells": [
  {
   "cell_type": "markdown",
   "id": "ba58527e",
   "metadata": {},
   "source": [
    "### Importing libraries"
   ]
  },
  {
   "cell_type": "code",
   "execution_count": 1,
   "id": "7d66378f",
   "metadata": {},
   "outputs": [],
   "source": [
    "import pandas as pd\n",
    "import numpy as np\n",
    "import matplotlib.pyplot as plt\n",
    "import seaborn as sns"
   ]
  },
  {
   "cell_type": "markdown",
   "id": "88b1b215",
   "metadata": {},
   "source": [
    "### Importing dataset"
   ]
  },
  {
   "cell_type": "code",
   "execution_count": 2,
   "id": "23522bab",
   "metadata": {},
   "outputs": [],
   "source": [
    "df=pd.read_csv('gaanasongs.csv')"
   ]
  },
  {
   "cell_type": "code",
   "execution_count": 3,
   "id": "5de0651c",
   "metadata": {},
   "outputs": [],
   "source": [
    "###"
   ]
  },
  {
   "cell_type": "code",
   "execution_count": 4,
   "id": "7fb69db4",
   "metadata": {},
   "outputs": [
    {
     "data": {
      "text/html": [
       "<div>\n",
       "<style scoped>\n",
       "    .dataframe tbody tr th:only-of-type {\n",
       "        vertical-align: middle;\n",
       "    }\n",
       "\n",
       "    .dataframe tbody tr th {\n",
       "        vertical-align: top;\n",
       "    }\n",
       "\n",
       "    .dataframe thead th {\n",
       "        text-align: right;\n",
       "    }\n",
       "</style>\n",
       "<table border=\"1\" class=\"dataframe\">\n",
       "  <thead>\n",
       "    <tr style=\"text-align: right;\">\n",
       "      <th></th>\n",
       "      <th>name</th>\n",
       "      <th>singer</th>\n",
       "      <th>singer_id</th>\n",
       "      <th>duration</th>\n",
       "      <th>link</th>\n",
       "      <th>language</th>\n",
       "    </tr>\n",
       "  </thead>\n",
       "  <tbody>\n",
       "    <tr>\n",
       "      <th>0</th>\n",
       "      <td>Dil - E - Nadan Tujhe</td>\n",
       "      <td>Chitra Singh|Jagjit Singh</td>\n",
       "      <td>/artist/chitra-singh|/artist/jagjeet-singh-1</td>\n",
       "      <td>05:00</td>\n",
       "      <td>/dil-e-nadan-tujhe-3</td>\n",
       "      <td>Urdu</td>\n",
       "    </tr>\n",
       "    <tr>\n",
       "      <th>1</th>\n",
       "      <td>Agar Hum Kahen Aur Woh Muskara De</td>\n",
       "      <td>Chitra Singh|Jagjit Singh</td>\n",
       "      <td>/artist/chitra-singh|/artist/jagjeet-singh-1</td>\n",
       "      <td>06:26</td>\n",
       "      <td>/agar-hum-kahen-aur-woh-muskura-den</td>\n",
       "      <td>Urdu</td>\n",
       "    </tr>\n",
       "    <tr>\n",
       "      <th>2</th>\n",
       "      <td>Unke Dekhe Se</td>\n",
       "      <td>Jagjit Singh</td>\n",
       "      <td>/artist/jagjeet-singh-1</td>\n",
       "      <td>03:41</td>\n",
       "      <td>/unke-dekhe-se</td>\n",
       "      <td>Urdu</td>\n",
       "    </tr>\n",
       "    <tr>\n",
       "      <th>3</th>\n",
       "      <td>Yeh Na Thi Hamari Qismat - Chitra Singh</td>\n",
       "      <td>Chitra Singh</td>\n",
       "      <td>/artist/chitra-singh</td>\n",
       "      <td>04:26</td>\n",
       "      <td>/yeh-na-thi-hamari-qismat-2</td>\n",
       "      <td>Urdu</td>\n",
       "    </tr>\n",
       "    <tr>\n",
       "      <th>4</th>\n",
       "      <td>Hazaron Khwahishen Aisi</td>\n",
       "      <td>Jagjit Singh</td>\n",
       "      <td>/artist/jagjeet-singh-1</td>\n",
       "      <td>05:39</td>\n",
       "      <td>/hazaron-khwahishen-aisi-1</td>\n",
       "      <td>Urdu</td>\n",
       "    </tr>\n",
       "  </tbody>\n",
       "</table>\n",
       "</div>"
      ],
      "text/plain": [
       "                                      name                     singer  \\\n",
       "0                    Dil - E - Nadan Tujhe  Chitra Singh|Jagjit Singh   \n",
       "1        Agar Hum Kahen Aur Woh Muskara De  Chitra Singh|Jagjit Singh   \n",
       "2                            Unke Dekhe Se               Jagjit Singh   \n",
       "3  Yeh Na Thi Hamari Qismat - Chitra Singh               Chitra Singh   \n",
       "4                  Hazaron Khwahishen Aisi               Jagjit Singh   \n",
       "\n",
       "                                      singer_id duration  \\\n",
       "0  /artist/chitra-singh|/artist/jagjeet-singh-1    05:00   \n",
       "1  /artist/chitra-singh|/artist/jagjeet-singh-1    06:26   \n",
       "2                       /artist/jagjeet-singh-1    03:41   \n",
       "3                          /artist/chitra-singh    04:26   \n",
       "4                       /artist/jagjeet-singh-1    05:39   \n",
       "\n",
       "                                  link language  \n",
       "0                 /dil-e-nadan-tujhe-3     Urdu  \n",
       "1  /agar-hum-kahen-aur-woh-muskura-den     Urdu  \n",
       "2                       /unke-dekhe-se     Urdu  \n",
       "3          /yeh-na-thi-hamari-qismat-2     Urdu  \n",
       "4           /hazaron-khwahishen-aisi-1     Urdu  "
      ]
     },
     "execution_count": 4,
     "metadata": {},
     "output_type": "execute_result"
    }
   ],
   "source": [
    "df.head()"
   ]
  },
  {
   "cell_type": "code",
   "execution_count": 5,
   "id": "f4077c71",
   "metadata": {},
   "outputs": [
    {
     "data": {
      "text/plain": [
       "(41355, 6)"
      ]
     },
     "execution_count": 5,
     "metadata": {},
     "output_type": "execute_result"
    }
   ],
   "source": [
    "df.shape"
   ]
  },
  {
   "cell_type": "markdown",
   "id": "4be51b65",
   "metadata": {},
   "source": [
    "#### 1) Check for null values"
   ]
  },
  {
   "cell_type": "code",
   "execution_count": 6,
   "id": "074fc166",
   "metadata": {},
   "outputs": [
    {
     "data": {
      "text/plain": [
       "name         0\n",
       "singer       0\n",
       "singer_id    0\n",
       "duration     0\n",
       "link         0\n",
       "language     0\n",
       "dtype: int64"
      ]
     },
     "execution_count": 6,
     "metadata": {},
     "output_type": "execute_result"
    }
   ],
   "source": [
    "# There are no null values in dataset\n",
    "df.isnull().sum()"
   ]
  },
  {
   "cell_type": "markdown",
   "id": "e99e174b",
   "metadata": {},
   "source": [
    "#### 2)Dealing with duration"
   ]
  },
  {
   "cell_type": "code",
   "execution_count": 7,
   "id": "8acfdf9a",
   "metadata": {},
   "outputs": [
    {
     "data": {
      "text/plain": [
       "name         object\n",
       "singer       object\n",
       "singer_id    object\n",
       "duration     object\n",
       "link         object\n",
       "language     object\n",
       "dtype: object"
      ]
     },
     "execution_count": 7,
     "metadata": {},
     "output_type": "execute_result"
    }
   ],
   "source": [
    "# We can see the duration's datatype is object\n",
    "df.dtypes"
   ]
  },
  {
   "cell_type": "code",
   "execution_count": 8,
   "id": "0a036cb8",
   "metadata": {},
   "outputs": [
    {
     "data": {
      "text/plain": [
       "0    05:00\n",
       "1    06:26\n",
       "2    03:41\n",
       "3    04:26\n",
       "4    05:39\n",
       "Name: duration, dtype: object"
      ]
     },
     "execution_count": 8,
     "metadata": {},
     "output_type": "execute_result"
    }
   ],
   "source": [
    "df['duration'].head()"
   ]
  },
  {
   "cell_type": "code",
   "execution_count": 9,
   "id": "07c0a159",
   "metadata": {},
   "outputs": [],
   "source": [
    "# We want to convert duration in minutes to seconds\n",
    "l1=[]\n",
    "\n",
    "for i in df['duration']:\n",
    "    minutes=int(i.split(\":\")[0])\n",
    "    seconds=int(i.split(\":\")[1])\n",
    "    ans=minutes*60+seconds\n",
    "    l1.append(ans)\n",
    "    "
   ]
  },
  {
   "cell_type": "code",
   "execution_count": 10,
   "id": "72906a49",
   "metadata": {},
   "outputs": [],
   "source": [
    "df['duration']=l1"
   ]
  },
  {
   "cell_type": "code",
   "execution_count": 11,
   "id": "db80c32d",
   "metadata": {},
   "outputs": [
    {
     "data": {
      "text/html": [
       "<div>\n",
       "<style scoped>\n",
       "    .dataframe tbody tr th:only-of-type {\n",
       "        vertical-align: middle;\n",
       "    }\n",
       "\n",
       "    .dataframe tbody tr th {\n",
       "        vertical-align: top;\n",
       "    }\n",
       "\n",
       "    .dataframe thead th {\n",
       "        text-align: right;\n",
       "    }\n",
       "</style>\n",
       "<table border=\"1\" class=\"dataframe\">\n",
       "  <thead>\n",
       "    <tr style=\"text-align: right;\">\n",
       "      <th></th>\n",
       "      <th>name</th>\n",
       "      <th>singer</th>\n",
       "      <th>singer_id</th>\n",
       "      <th>duration</th>\n",
       "      <th>link</th>\n",
       "      <th>language</th>\n",
       "    </tr>\n",
       "  </thead>\n",
       "  <tbody>\n",
       "    <tr>\n",
       "      <th>0</th>\n",
       "      <td>Dil - E - Nadan Tujhe</td>\n",
       "      <td>Chitra Singh|Jagjit Singh</td>\n",
       "      <td>/artist/chitra-singh|/artist/jagjeet-singh-1</td>\n",
       "      <td>300</td>\n",
       "      <td>/dil-e-nadan-tujhe-3</td>\n",
       "      <td>Urdu</td>\n",
       "    </tr>\n",
       "    <tr>\n",
       "      <th>1</th>\n",
       "      <td>Agar Hum Kahen Aur Woh Muskara De</td>\n",
       "      <td>Chitra Singh|Jagjit Singh</td>\n",
       "      <td>/artist/chitra-singh|/artist/jagjeet-singh-1</td>\n",
       "      <td>386</td>\n",
       "      <td>/agar-hum-kahen-aur-woh-muskura-den</td>\n",
       "      <td>Urdu</td>\n",
       "    </tr>\n",
       "    <tr>\n",
       "      <th>2</th>\n",
       "      <td>Unke Dekhe Se</td>\n",
       "      <td>Jagjit Singh</td>\n",
       "      <td>/artist/jagjeet-singh-1</td>\n",
       "      <td>221</td>\n",
       "      <td>/unke-dekhe-se</td>\n",
       "      <td>Urdu</td>\n",
       "    </tr>\n",
       "    <tr>\n",
       "      <th>3</th>\n",
       "      <td>Yeh Na Thi Hamari Qismat - Chitra Singh</td>\n",
       "      <td>Chitra Singh</td>\n",
       "      <td>/artist/chitra-singh</td>\n",
       "      <td>266</td>\n",
       "      <td>/yeh-na-thi-hamari-qismat-2</td>\n",
       "      <td>Urdu</td>\n",
       "    </tr>\n",
       "    <tr>\n",
       "      <th>4</th>\n",
       "      <td>Hazaron Khwahishen Aisi</td>\n",
       "      <td>Jagjit Singh</td>\n",
       "      <td>/artist/jagjeet-singh-1</td>\n",
       "      <td>339</td>\n",
       "      <td>/hazaron-khwahishen-aisi-1</td>\n",
       "      <td>Urdu</td>\n",
       "    </tr>\n",
       "  </tbody>\n",
       "</table>\n",
       "</div>"
      ],
      "text/plain": [
       "                                      name                     singer  \\\n",
       "0                    Dil - E - Nadan Tujhe  Chitra Singh|Jagjit Singh   \n",
       "1        Agar Hum Kahen Aur Woh Muskara De  Chitra Singh|Jagjit Singh   \n",
       "2                            Unke Dekhe Se               Jagjit Singh   \n",
       "3  Yeh Na Thi Hamari Qismat - Chitra Singh               Chitra Singh   \n",
       "4                  Hazaron Khwahishen Aisi               Jagjit Singh   \n",
       "\n",
       "                                      singer_id  duration  \\\n",
       "0  /artist/chitra-singh|/artist/jagjeet-singh-1       300   \n",
       "1  /artist/chitra-singh|/artist/jagjeet-singh-1       386   \n",
       "2                       /artist/jagjeet-singh-1       221   \n",
       "3                          /artist/chitra-singh       266   \n",
       "4                       /artist/jagjeet-singh-1       339   \n",
       "\n",
       "                                  link language  \n",
       "0                 /dil-e-nadan-tujhe-3     Urdu  \n",
       "1  /agar-hum-kahen-aur-woh-muskura-den     Urdu  \n",
       "2                       /unke-dekhe-se     Urdu  \n",
       "3          /yeh-na-thi-hamari-qismat-2     Urdu  \n",
       "4           /hazaron-khwahishen-aisi-1     Urdu  "
      ]
     },
     "execution_count": 11,
     "metadata": {},
     "output_type": "execute_result"
    }
   ],
   "source": [
    "# Here we can see that duration is now converted into seconds\n",
    "df.head()"
   ]
  },
  {
   "cell_type": "markdown",
   "id": "818c7a90",
   "metadata": {},
   "source": [
    "#### 3)Find average duration of the songs"
   ]
  },
  {
   "cell_type": "code",
   "execution_count": 12,
   "id": "90507d40",
   "metadata": {},
   "outputs": [],
   "source": [
    "avg=df['duration'].mean()"
   ]
  },
  {
   "cell_type": "code",
   "execution_count": 13,
   "id": "83e474f4",
   "metadata": {},
   "outputs": [
    {
     "name": "stdout",
     "output_type": "stream",
     "text": [
      "in seconds: 295.3130697618184\n",
      "in minutes: 4.921884496030306\n"
     ]
    }
   ],
   "source": [
    "print(\"in seconds:\",avg)\n",
    "print(\"in minutes:\",avg/60)"
   ]
  },
  {
   "cell_type": "markdown",
   "id": "e235a3a8",
   "metadata": {},
   "source": [
    "#### 4)How many languages of songs are in the dataset"
   ]
  },
  {
   "cell_type": "code",
   "execution_count": 14,
   "id": "5cf901c2",
   "metadata": {},
   "outputs": [
    {
     "data": {
      "text/plain": [
       "Telugu        4996\n",
       "Hindi         4993\n",
       "Old           4993\n",
       "Marathi       4699\n",
       "Tamil         4677\n",
       "Punjabi       3818\n",
       "Kannada       3559\n",
       "Urdu          3116\n",
       "Gujarati      2115\n",
       "Bengali        958\n",
       "Odia           940\n",
       "Assamese       724\n",
       "Rajasthani     541\n",
       "Bhojpuri       519\n",
       "Malayalam      479\n",
       "Haryanvi       228\n",
       "Name: language, dtype: int64"
      ]
     },
     "execution_count": 14,
     "metadata": {},
     "output_type": "execute_result"
    }
   ],
   "source": [
    "df.language.value_counts()"
   ]
  },
  {
   "cell_type": "code",
   "execution_count": 15,
   "id": "07f1eae8",
   "metadata": {},
   "outputs": [
    {
     "name": "stdout",
     "output_type": "stream",
     "text": [
      "there are : 16 langauges in dataset\n"
     ]
    }
   ],
   "source": [
    "print(\"there are :\",len(df.language.value_counts()),\"langauges in dataset\")"
   ]
  },
  {
   "cell_type": "code",
   "execution_count": 16,
   "id": "d5217b90",
   "metadata": {},
   "outputs": [
    {
     "data": {
      "text/plain": [
       "<AxesSubplot:xlabel='language', ylabel='count'>"
      ]
     },
     "execution_count": 16,
     "metadata": {},
     "output_type": "execute_result"
    },
    {
     "data": {
      "image/png": "[encoded data removed]",
      "text/plain": [
       "<Figure size 1440x720 with 1 Axes>"
      ]
     },
     "metadata": {
      "needs_background": "light"
     },
     "output_type": "display_data"
    }
   ],
   "source": [
    "plt.figure(figsize=(20,10))\n",
    "sns.countplot(x='language',data=df)"
   ]
  },
  {
   "cell_type": "markdown",
   "id": "800b6563",
   "metadata": {},
   "source": [
    "#### 5)How many punjabi songs are there"
   ]
  },
  {
   "cell_type": "code",
   "execution_count": 17,
   "id": "1ad88836",
   "metadata": {},
   "outputs": [
    {
     "data": {
      "text/plain": [
       "Telugu        4996\n",
       "Hindi         4993\n",
       "Old           4993\n",
       "Marathi       4699\n",
       "Tamil         4677\n",
       "Punjabi       3818\n",
       "Kannada       3559\n",
       "Urdu          3116\n",
       "Gujarati      2115\n",
       "Bengali        958\n",
       "Odia           940\n",
       "Assamese       724\n",
       "Rajasthani     541\n",
       "Bhojpuri       519\n",
       "Malayalam      479\n",
       "Haryanvi       228\n",
       "Name: language, dtype: int64"
      ]
     },
     "execution_count": 17,
     "metadata": {},
     "output_type": "execute_result"
    }
   ],
   "source": [
    "df.language.value_counts()\n",
    "# We can see that there are 3818 punjabi songs"
   ]
  },
  {
   "cell_type": "code",
   "execution_count": 18,
   "id": "959738bb",
   "metadata": {},
   "outputs": [
    {
     "name": "stdout",
     "output_type": "stream",
     "text": [
      "there are: 3818 punjabi songs in the dataset\n"
     ]
    }
   ],
   "source": [
    "# another way\n",
    "su=0\n",
    "for i in df['language']:\n",
    "    if i=='Punjabi':\n",
    "        su+=1\n",
    "print(\"there are:\",su,\"punjabi songs in the dataset\")    "
   ]
  },
  {
   "cell_type": "markdown",
   "id": "a20de0c8",
   "metadata": {},
   "source": [
    "#### 6)Find number of songs in each language"
   ]
  },
  {
   "cell_type": "code",
   "execution_count": 19,
   "id": "e88c4e0e",
   "metadata": {},
   "outputs": [
    {
     "data": {
      "text/plain": [
       "Telugu        4996\n",
       "Hindi         4993\n",
       "Old           4993\n",
       "Marathi       4699\n",
       "Tamil         4677\n",
       "Punjabi       3818\n",
       "Kannada       3559\n",
       "Urdu          3116\n",
       "Gujarati      2115\n",
       "Bengali        958\n",
       "Odia           940\n",
       "Assamese       724\n",
       "Rajasthani     541\n",
       "Bhojpuri       519\n",
       "Malayalam      479\n",
       "Haryanvi       228\n",
       "Name: language, dtype: int64"
      ]
     },
     "execution_count": 19,
     "metadata": {},
     "output_type": "execute_result"
    }
   ],
   "source": [
    "df.language.value_counts()"
   ]
  },
  {
   "cell_type": "markdown",
   "id": "f2c11283",
   "metadata": {},
   "source": [
    "#### 7)find average duration of songs in each language"
   ]
  },
  {
   "cell_type": "code",
   "execution_count": 20,
   "id": "46bd4eec",
   "metadata": {},
   "outputs": [
    {
     "name": "stdout",
     "output_type": "stream",
     "text": [
      "Urdu 407\n",
      "Gujarati 271\n",
      "Tamil 270\n",
      "Kannada 250\n",
      "Rajasthani 291\n",
      "Haryanvi 320\n",
      "Punjabi 324\n",
      "Hindi 307\n",
      "Old 307\n",
      "Malayalam 242\n",
      "Marathi 281\n",
      "Telugu 279\n",
      "Odia 257\n",
      "Bhojpuri 357\n",
      "Assamese 228\n",
      "Bengali 255\n"
     ]
    }
   ],
   "source": [
    "for i in df['language'].unique():\n",
    "    print(i, int(df[df['language'] == i]['duration'].mean()))"
   ]
  },
  {
   "cell_type": "markdown",
   "id": "f3bf80d7",
   "metadata": {},
   "source": [
    "#### 8) Find how many unique singers in the dataset"
   ]
  },
  {
   "cell_type": "code",
   "execution_count": 21,
   "id": "4f378aa5",
   "metadata": {},
   "outputs": [
    {
     "name": "stdout",
     "output_type": "stream",
     "text": [
      "3940\n"
     ]
    }
   ],
   "source": [
    "l2=[]\n",
    "for i in df['singer']:\n",
    "    l2+=i.split('|')\n",
    "s1=set(l2)\n",
    "print(len(s1))    "
   ]
  },
  {
   "cell_type": "markdown",
   "id": "5affb691",
   "metadata": {},
   "source": [
    "#### 9)Find out logest song in dataset"
   ]
  },
  {
   "cell_type": "code",
   "execution_count": 22,
   "id": "76f7e1cc",
   "metadata": {},
   "outputs": [
    {
     "data": {
      "text/plain": [
       "count    41355.000000\n",
       "mean       295.313070\n",
       "std        218.524804\n",
       "min         17.000000\n",
       "25%        204.000000\n",
       "50%        260.000000\n",
       "75%        323.000000\n",
       "max       3595.000000\n",
       "Name: duration, dtype: float64"
      ]
     },
     "execution_count": 22,
     "metadata": {},
     "output_type": "execute_result"
    }
   ],
   "source": [
    "df.duration.describe()"
   ]
  },
  {
   "cell_type": "code",
   "execution_count": 23,
   "id": "139072f4",
   "metadata": {},
   "outputs": [
    {
     "data": {
      "text/plain": [
       "array([818], dtype=int64)"
      ]
     },
     "execution_count": 23,
     "metadata": {},
     "output_type": "execute_result"
    }
   ],
   "source": [
    "df[df['duration']==3595.000000].index.values"
   ]
  },
  {
   "cell_type": "code",
   "execution_count": 24,
   "id": "6647c336",
   "metadata": {},
   "outputs": [
    {
     "data": {
      "text/html": [
       "<div>\n",
       "<style scoped>\n",
       "    .dataframe tbody tr th:only-of-type {\n",
       "        vertical-align: middle;\n",
       "    }\n",
       "\n",
       "    .dataframe tbody tr th {\n",
       "        vertical-align: top;\n",
       "    }\n",
       "\n",
       "    .dataframe thead th {\n",
       "        text-align: right;\n",
       "    }\n",
       "</style>\n",
       "<table border=\"1\" class=\"dataframe\">\n",
       "  <thead>\n",
       "    <tr style=\"text-align: right;\">\n",
       "      <th></th>\n",
       "      <th>name</th>\n",
       "      <th>singer</th>\n",
       "      <th>singer_id</th>\n",
       "      <th>duration</th>\n",
       "      <th>link</th>\n",
       "      <th>language</th>\n",
       "    </tr>\n",
       "  </thead>\n",
       "  <tbody>\n",
       "    <tr>\n",
       "      <th>818</th>\n",
       "      <td>Yeh Paisa Kya Karega</td>\n",
       "      <td>Aziz Miyan Qawwal</td>\n",
       "      <td>/artist/aziz-miyan-qawwal</td>\n",
       "      <td>3595</td>\n",
       "      <td>/yeh-paisa-kya-karega-2</td>\n",
       "      <td>Urdu</td>\n",
       "    </tr>\n",
       "  </tbody>\n",
       "</table>\n",
       "</div>"
      ],
      "text/plain": [
       "                     name             singer                  singer_id  \\\n",
       "818  Yeh Paisa Kya Karega  Aziz Miyan Qawwal  /artist/aziz-miyan-qawwal   \n",
       "\n",
       "     duration                     link language  \n",
       "818      3595  /yeh-paisa-kya-karega-2     Urdu  "
      ]
     },
     "execution_count": 24,
     "metadata": {},
     "output_type": "execute_result"
    }
   ],
   "source": [
    "# Here you can see longest song in dataset\n",
    "df.iloc[[818]]"
   ]
  },
  {
   "cell_type": "markdown",
   "id": "e12f70cb",
   "metadata": {},
   "source": [
    "### Find out smallest song in dataset"
   ]
  },
  {
   "cell_type": "code",
   "execution_count": 25,
   "id": "553e3a32",
   "metadata": {},
   "outputs": [
    {
     "data": {
      "text/plain": [
       "array([22952, 27945, 35561], dtype=int64)"
      ]
     },
     "execution_count": 25,
     "metadata": {},
     "output_type": "execute_result"
    }
   ],
   "source": [
    "df[df['duration']==17.000000].index.values"
   ]
  },
  {
   "cell_type": "code",
   "execution_count": 26,
   "id": "3a91a682",
   "metadata": {},
   "outputs": [
    {
     "data": {
      "text/html": [
       "<div>\n",
       "<style scoped>\n",
       "    .dataframe tbody tr th:only-of-type {\n",
       "        vertical-align: middle;\n",
       "    }\n",
       "\n",
       "    .dataframe tbody tr th {\n",
       "        vertical-align: top;\n",
       "    }\n",
       "\n",
       "    .dataframe thead th {\n",
       "        text-align: right;\n",
       "    }\n",
       "</style>\n",
       "<table border=\"1\" class=\"dataframe\">\n",
       "  <thead>\n",
       "    <tr style=\"text-align: right;\">\n",
       "      <th></th>\n",
       "      <th>name</th>\n",
       "      <th>singer</th>\n",
       "      <th>singer_id</th>\n",
       "      <th>duration</th>\n",
       "      <th>link</th>\n",
       "      <th>language</th>\n",
       "    </tr>\n",
       "  </thead>\n",
       "  <tbody>\n",
       "    <tr>\n",
       "      <th>22952</th>\n",
       "      <td>Dialogues (Ghulami): Aahi Jaana Mere Liye</td>\n",
       "      <td>Ost</td>\n",
       "      <td>/artist/ost</td>\n",
       "      <td>17</td>\n",
       "      <td>/dialogue-aahi-jana-mere-liye</td>\n",
       "      <td>Hindi</td>\n",
       "    </tr>\n",
       "    <tr>\n",
       "      <th>27945</th>\n",
       "      <td>Dialogues (Ghulami): Aahi Jaana Mere Liye</td>\n",
       "      <td>Ost</td>\n",
       "      <td>/artist/ost</td>\n",
       "      <td>17</td>\n",
       "      <td>/dialogue-aahi-jana-mere-liye</td>\n",
       "      <td>Old</td>\n",
       "    </tr>\n",
       "    <tr>\n",
       "      <th>35561</th>\n",
       "      <td>Title Musics - Jagadekaveeruni Katha</td>\n",
       "      <td>Gurucharan</td>\n",
       "      <td>/artist/gurucharan</td>\n",
       "      <td>17</td>\n",
       "      <td>/title-musics</td>\n",
       "      <td>Telugu</td>\n",
       "    </tr>\n",
       "  </tbody>\n",
       "</table>\n",
       "</div>"
      ],
      "text/plain": [
       "                                            name      singer  \\\n",
       "22952  Dialogues (Ghulami): Aahi Jaana Mere Liye         Ost   \n",
       "27945  Dialogues (Ghulami): Aahi Jaana Mere Liye         Ost   \n",
       "35561       Title Musics - Jagadekaveeruni Katha  Gurucharan   \n",
       "\n",
       "                singer_id  duration                           link language  \n",
       "22952         /artist/ost        17  /dialogue-aahi-jana-mere-liye    Hindi  \n",
       "27945         /artist/ost        17  /dialogue-aahi-jana-mere-liye      Old  \n",
       "35561  /artist/gurucharan        17                  /title-musics   Telugu  "
      ]
     },
     "execution_count": 26,
     "metadata": {},
     "output_type": "execute_result"
    }
   ],
   "source": [
    "df.iloc[[22952, 27945, 35561]]"
   ]
  },
  {
   "cell_type": "code",
   "execution_count": null,
   "id": "68095081",
   "metadata": {},
   "outputs": [],
   "source": []
  }
 ],
 "metadata": {
  "kernelspec": {
   "display_name": "Python 3 (ipykernel)",
   "language": "python",
   "name": "python3"
  },
  "language_info": {
   "codemirror_mode": {
    "name": "ipython",
    "version": 3
   },
   "file_extension": ".py",
   "mimetype": "text/x-python",
   "name": "python",
   "nbconvert_exporter": "python",
   "pygments_lexer": "ipython3",
   "version": "3.9.5"
  }
 },
 "nbformat": 4,
 "nbformat_minor": 5
}
